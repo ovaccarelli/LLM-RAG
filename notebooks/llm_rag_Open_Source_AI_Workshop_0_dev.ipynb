{
 "cells": [
  {
   "cell_type": "markdown",
   "id": "574e1246",
   "metadata": {},
   "source": [
    "# ⚙️ Expert Setup Guide: Python venv + Ollama\n",
    "\n",
    "Before we start building our Retrieval-Augmented Generation (RAG) system, we need to install the necessary libraries.\n",
    "This will set up the core components for document loading, vector storage, LLM orchestration, and environment handling."
   ]
  },
  {
   "cell_type": "markdown",
   "id": "d9487c94",
   "metadata": {},
   "source": [
    "## 🐍 Python Virtual Environment\n",
    "\n",
    "Works on macOS / Linux / Windows. Keeps dependencies isolated.\n",
    "\n",
    "🔗 [Python venv official docs](https://docs.python.org/3/library/venv.html)\n",
    "\n",
    "### 1) Create and activate venv\n",
    "\n",
    "**macOS / Linux (terminal)**"
   ]
  },
  {
   "cell_type": "code",
   "execution_count": null,
   "id": "ea29b61f",
   "metadata": {},
   "outputs": [],
   "source": [
    "python3 --version\n",
    "python3 -m venv .venv\n",
    "source .venv/bin/activate"
   ]
  },
  {
   "cell_type": "markdown",
   "id": "102ba8b7",
   "metadata": {},
   "source": [
    "**Windows (PowerShell)**"
   ]
  },
  {
   "cell_type": "code",
   "execution_count": null,
   "id": "d63f93a0",
   "metadata": {},
   "outputs": [],
   "source": [
    "py --version\n",
    "py -m venv .venv\n",
    ".\\.venv\\Scripts\\Activate.ps1"
   ]
  },
  {
   "cell_type": "markdown",
   "id": "ca8a37ca",
   "metadata": {},
   "source": [
    "### 2) Upgrade pip & install dependencies"
   ]
  },
  {
   "cell_type": "code",
   "execution_count": null,
   "id": "9c590b97",
   "metadata": {},
   "outputs": [],
   "source": [
    "python -m pip install --upgrade pip\n",
    "pip install jupyter langchain langchain-community langchain-ollama pypdf"
   ]
  },
  {
   "cell_type": "markdown",
   "id": "14ddf5be",
   "metadata": {},
   "source": [
    "### 3) Install Ollama\n",
    "\n",
    "Ollama can run in two different expert-friendly environments:\n",
    "\n",
    "- **Option A — Python virtual environment (recommended for notebooks & dev work)**\n",
    "- **Option B — Docker (clean, reproducible, ideal for GPU or CI/CD)**\n",
    "\n",
    "Pick the one that fits your workflow.\n",
    "\n",
    "### 🦙 Option A) Install Ollama\n",
    "\n",
    "- **macOS / Windows**: Download installer from [ollama.com](https://ollama.com)  \n",
    "- **Linux (terminal)**:"
   ]
  },
  {
   "cell_type": "code",
   "execution_count": null,
   "id": "e7df5703",
   "metadata": {},
   "outputs": [],
   "source": [
    "  curl -fsSL https://ollama.com/install.sh | sh\n",
    "  ollama serve   # start the server if not started automatically"
   ]
  },
  {
   "cell_type": "markdown",
   "id": "5b184c44",
   "metadata": {},
   "source": [
    "### 4) Verify installation"
   ]
  },
  {
   "cell_type": "code",
   "execution_count": null,
   "id": "6cd0556f",
   "metadata": {},
   "outputs": [],
   "source": [
    "ollama --version\n",
    "ollama pull mistral\n",
    "ollama run mistral"
   ]
  },
  {
   "cell_type": "markdown",
   "id": "84ea8196",
   "metadata": {},
   "source": [
    "## 🐳 Option B) Docker\n",
    "\n",
    "Use Docker to keep your system clean and make sharing easy.\n",
    "\n",
    "🔗 [Ollama Docker Hub](https://hub.docker.com/r/ollama/ollama)\n",
    "\n",
    "### 1) Install Docker\n",
    "\n",
    "- [Docker Desktop (macOS / Windows)](https://www.docker.com/products/docker-desktop)  \n",
    "- [Docker Engine (Linux)](https://docs.docker.com/engine/install/)  \n",
    "\n",
    "### 2) Run Ollama container"
   ]
  },
  {
   "cell_type": "code",
   "execution_count": null,
   "id": "cf5bb0ec",
   "metadata": {},
   "outputs": [],
   "source": [
    "docker run -d --name ollama -v ollama:/root/.ollama -p 11434:11434 ollama/ollama"
   ]
  },
  {
   "cell_type": "markdown",
   "id": "83575dbd",
   "metadata": {},
   "source": [
    "### 3) Pull and test model inside container"
   ]
  },
  {
   "cell_type": "code",
   "execution_count": null,
   "id": "9edbae2a",
   "metadata": {},
   "outputs": [],
   "source": [
    "docker exec -it ollama ollama pull mistral\n",
    "docker exec -it ollama ollama run mistral"
   ]
  },
  {
   "cell_type": "markdown",
   "id": "e5ffe326",
   "metadata": {},
   "source": [
    "## ✅ Quick Python Test (both methods)\n",
    "\n",
    "Once Ollama is running, you can connect from Python:"
   ]
  },
  {
   "cell_type": "code",
   "execution_count": null,
   "id": "c0f51598",
   "metadata": {},
   "outputs": [],
   "source": [
    "llm = OllamaLLM(\n",
    "    model=\"mistral\", \n",
    "#    base_url=\"http://localhost:11434\",   # <--- IMPORTANT: Add this line if Ollama server is running in Docker (mapped to localhost:11434)\n",
    "    temperature=0.1, \n",
    "    model_kwargs={\"num_ctx\": 32768}\n",
    ")"
   ]
  },
  {
   "cell_type": "code",
   "execution_count": null,
   "id": "574a01b0",
   "metadata": {},
   "outputs": [],
   "source": [
    "# Test it\n",
    "resp = llm.invoke(\"...\")\n",
    "print(resp)"
   ]
  }
 ],
 "metadata": {
  "kernelspec": {
   "display_name": ".venv",
   "language": "python",
   "name": "python3"
  },
  "language_info": {
   "codemirror_mode": {
    "name": "ipython",
    "version": 3
   },
   "file_extension": ".py",
   "mimetype": "text/x-python",
   "name": "python",
   "nbconvert_exporter": "python",
   "pygments_lexer": "ipython3",
   "version": "3.12.1"
  }
 },
 "nbformat": 4,
 "nbformat_minor": 5
}
