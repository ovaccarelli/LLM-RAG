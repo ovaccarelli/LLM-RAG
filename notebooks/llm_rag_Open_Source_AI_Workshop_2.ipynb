{
  "cells": [
    {
      "cell_type": "markdown",
      "metadata": {},
      "source": [
        "[![Open In Colab](https://colab.research.google.com/assets/colab-badge.svg)](https://colab.research.google.com/github/ovaccarelli/LLM-RAG/blob/main/notebooks/llm_rag_Open_Source_AI_Workshop_2.ipynb)"
      ]
    },
    {
      "cell_type": "markdown",
      "metadata": {
        "id": "x0MJe6AusVtI"
      },
      "source": [
        "\n",
        "# 🔧 Setup"
      ]
    },
    {
      "cell_type": "code",
      "execution_count": null,
      "metadata": {},
      "outputs": [],
      "source": [
        "# Install all required Python packages for this workshop\n",
        "\n",
        "!pip install langchain langchain-community wget pypdf pymupdf4llm langchain-docling"
      ]
    },
    {
      "cell_type": "code",
      "execution_count": null,
      "metadata": {},
      "outputs": [],
      "source": [
        "import os, time\n",
        "from pathlib import Path\n",
        "import wget\n",
        "\n",
        "from rich.console import Console\n",
        "from rich.markdown import Markdown\n",
        "from langchain.document_loaders import PyPDFLoader\n",
        "import pymupdf4llm\n",
        "from langchain_docling import DoclingLoader\n",
        "from langchain_docling.loader import ExportType\n",
        "\n",
        "console = Console()"
      ]
    },
    {
      "cell_type": "code",
      "execution_count": null,
      "metadata": {},
      "outputs": [],
      "source": [
        "# Create the \"data\" folder \n",
        "try:\n",
        "    import google.colab  # only exists on Colab\n",
        "    DATA_FOLDER = Path(\"data\")         # Colab path\n",
        "except ImportError:\n",
        "    DATA_FOLDER = Path(\"../data\")      # Local path\n",
        "os.makedirs(DATA_FOLDER, exist_ok=True)"
      ]
    },
    {
      "cell_type": "markdown",
      "metadata": {
        "id": "MPoWurPW_5gb"
      },
      "source": [
        "------------------------------------------------------------------------------------------------------------------------------------------------------------------------------------------------------------------------------------------------------------------------"
      ]
    },
    {
      "cell_type": "markdown",
      "metadata": {
        "id": "2gs5RIuCATIX"
      },
      "source": [
        "## 2. Extract Text from a Single PDF\n",
        "\n",
        "In this step, we’ll load one PDF file and convert its pages into plain text (or Markdown) using three different methods:\n",
        "\n",
        "- **PyPDFLoader** (LangChain): A straightforward loader that splits the PDF into page-level `Document` objects.  \n",
        "- **PyMuPDF4LLM**: A fast, native extractor that generates Markdown-formatted text with optional page-wise chunking.  \n",
        "- **Docling**: A robust parser that preserves layout and exports content as Markdown, either per page (DOC_CHUNKS) or whole-document (MARKDOWN).\n",
        "\n",
        "You will see how to:\n",
        "\n",
        "1. Read the PDF from disk.  \n",
        "2. Extract every page’s text into a structured format.  \n",
        "3. Time each method to compare performance.  \n",
        "4. Preview a specific page for verification."
      ]
    },
    {
      "cell_type": "markdown",
      "metadata": {
        "id": "bsxUf8ZFCaiT"
      },
      "source": [
        "### 📁 Setup Paths & Choose only 1 PDF for testing"
      ]
    },
    {
      "cell_type": "code",
      "execution_count": null,
      "metadata": {
        "colab": {
          "base_uri": "https://localhost:8080/",
          "height": 33
        },
        "id": "_V409t4BG0xw",
        "outputId": "599dc643-1d37-4f05-f735-d72bd1d29ebe"
      },
      "outputs": [],
      "source": [
        "# Create the \"data/sample_pdf\" folder if it doesn't exist\n",
        "SAMPLE_PDF_DIR = DATA_FOLDER/\"sample_pdf\"\n",
        "os.makedirs(SAMPLE_PDF_DIR, exist_ok=True)\n",
        "\n",
        "# URL of the PDFs to test\n",
        "urls = [\n",
        "    \"https://raw.githubusercontent.com/ovaccarelli/LLM-RAG/main/data/sample_pdf/2312.10997.pdf\",\n",
        "    \"https://raw.githubusercontent.com/ovaccarelli/LLM-RAG/main/data/sample_pdf/2312.10997_page13.pdf\",\n",
        "]\n",
        "\n",
        "# Download the PDFs\n",
        "for url in urls:\n",
        "    name = url.split(\"/\")[-1]\n",
        "    if not (SAMPLE_PDF_DIR / name).is_file():\n",
        "        filename = wget.download(url, f\"data/sample_pdf/{name}\")\n",
        "console.print(\"Pdf file downloaded successfully.\", style=\"bold green\")"
      ]
    },
    {
      "cell_type": "markdown",
      "metadata": {
        "id": "PyiWgsgf-7Mb"
      },
      "source": [
        "#### PyPDFLoader"
      ]
    },
    {
      "cell_type": "code",
      "execution_count": null,
      "metadata": {
        "colab": {
          "base_uri": "https://localhost:8080/"
        },
        "id": "jRr5M6QM-Ccx",
        "outputId": "980b6342-92fb-4e69-cebf-c293f1c71d77"
      },
      "outputs": [],
      "source": [
        "pdf_path = SAMPLE_PDF_DIR/\"2312.10997.pdf\"  \n",
        "\n",
        "# Load the PDF with PyPDFLoader (returns a list of Document objects, one per page)\n",
        "start = time.time()\n",
        "loader = ...\n",
        "docs_pypdf = ...             \n",
        "end = time.time()\n",
        "\n",
        "print(f\"Using file: {pdf_path.name}\")\n",
        "print(f\"🕒 PyPDFLoader loaded {len(docs_pypdf)} pages in {end - start:.2f} seconds\")"
      ]
    },
    {
      "cell_type": "code",
      "execution_count": null,
      "metadata": {
        "colab": {
          "base_uri": "https://localhost:8080/"
        },
        "id": "0r0rl1Qb7Icb",
        "outputId": "26c6b35c-654d-4dea-b593-dc7aebefb919"
      },
      "outputs": [],
      "source": [
        "# --- Preview the PDF contents ---\n",
        "# Pages are indexed starting from 0\n",
        "\n",
        "page_to_print = ...  # Change this to the page index you want\n",
        "max_num_characters = ... # Change the max num of characters you want to print\n",
        "\n",
        "# Now preview the chosen page:\n",
        "\n",
        "if 0 <= page_to_print < len(docs_pypdf):\n",
        "    content = docs_pypdf[page_to_print].page_content\n",
        "    print(f\"--- 📄 Page {page_to_print + 1} / {len(docs_pypdf)} ---\\n\")\n",
        "    print(content[:max_num_characters])\n",
        "else:\n",
        "    print(f\"Page {page_to_print} is out of range (max:{len(docs_pypdf)})\")"
      ]
    },
    {
      "cell_type": "markdown",
      "metadata": {
        "id": "-fg81Ftk4NqN"
      },
      "source": [
        "### PyMuPDF4LLM"
      ]
    },
    {
      "cell_type": "code",
      "execution_count": null,
      "metadata": {
        "colab": {
          "base_uri": "https://localhost:8080/"
        },
        "id": "SGSv0GGPBteE",
        "outputId": "7a581948-2aa0-4e2c-8e8a-02c8854dec0c"
      },
      "outputs": [],
      "source": [
        "# Load the PDF with PyMuPDF4LLM (return a list of page dicts)\n",
        "start = time.time()\n",
        "docs_pymupdf = ...       \n",
        "end = time.time()\n",
        "\n",
        "print(f\"Using file: {pdf_path.name}\")\n",
        "print(f\"🕒 PyMuPDF4LLM extracted {len(docs_pymupdf)} pages in {end - start:.2f} seconds\\n\")"
      ]
    },
    {
      "cell_type": "code",
      "execution_count": null,
      "metadata": {
        "colab": {
          "base_uri": "https://localhost:8080/"
        },
        "id": "Yzqls88v7QH0",
        "outputId": "3d3fa4bc-656f-4483-8c61-2653b5b2ea2a"
      },
      "outputs": [],
      "source": [
        "# --- Preview the PDF contents ---\n",
        "# Pages are indexed starting from 0\n",
        "\n",
        "page_to_print = ...  # Change this to the page index you want\n",
        "max_num_characters = ... # Change the max num of characters you want to print\n",
        "\n",
        "# Now preview the chosen page:\n",
        "\n",
        "if 0 <= page_to_print < len(docs_pymupdf):\n",
        "    md = docs_pymupdf[page_to_print][\"text\"]\n",
        "    print(f\"--- 📄 Page {page_to_print + 1} / {len(docs_pymupdf)} ---\\n\")\n",
        "    print(md[:max_num_characters])\n",
        "else:\n",
        "    print(f\"Page {page_to_print} is out of range (max:{len(docs_pymupdf)})\")"
      ]
    },
    {
      "cell_type": "markdown",
      "metadata": {
        "id": "9E-f6svc4TLP"
      },
      "source": [
        "### Docling"
      ]
    },
    {
      "cell_type": "code",
      "execution_count": null,
      "metadata": {
        "colab": {
          "base_uri": "https://localhost:8080/"
        },
        "id": "JZ79kroX_ygW",
        "outputId": "b3acdf59-a6a3-4f48-e9c8-4252f7199fa2"
      },
      "outputs": [],
      "source": [
        "pdf_path_docling = SAMPLE_PDF_DIR/\"2312.10997_page13.pdf\"  # Just pick one page for testing\n",
        "\n",
        "# Load the PDF with Docling\n",
        "start = time.time()\n",
        "loader_docling = ...\n",
        "docs_docling = ...\n",
        "end = time.time()\n",
        "\n",
        "print(f\"Using file: {pdf_path_docling.name}\")\n",
        "print(f\"🕒 Docling loaded {len(docs_docling)} document(s) in {end - start:.2f} seconds\")"
      ]
    },
    {
      "cell_type": "code",
      "execution_count": null,
      "metadata": {
        "colab": {
          "base_uri": "https://localhost:8080/"
        },
        "id": "xyZ74jEnBExT",
        "outputId": "78d164a3-b65e-4048-eb84-cf1eae168b80"
      },
      "outputs": [],
      "source": [
        "# --- Preview the PDF contents ---\n",
        "\n",
        "# Print the full extracted text\n",
        "for idx, doc in enumerate(docs_docling):\n",
        "    print(f\"\\n--- 📄 PDF Document: {pdf_path_docling.name} ---\\n\")\n",
        "    print(doc.page_content)"
      ]
    },
    {
      "cell_type": "markdown",
      "metadata": {
        "id": "Ze4WmNqKD-Zd"
      },
      "source": [
        "------------------------------------------------------------------------------------------------------------------------------------------------------------------------------------------------------------------------------------------------------------------------"
      ]
    }
  ],
  "metadata": {
    "accelerator": "GPU",
    "colab": {
      "gpuType": "T4",
      "provenance": []
    },
    "kernelspec": {
      "display_name": ".venv",
      "language": "python",
      "name": "python3"
    },
    "language_info": {
      "codemirror_mode": {
        "name": "ipython",
        "version": 3
      },
      "file_extension": ".py",
      "mimetype": "text/x-python",
      "name": "python",
      "nbconvert_exporter": "python",
      "pygments_lexer": "ipython3",
      "version": "3.12.1"
    }
  },
  "nbformat": 4,
  "nbformat_minor": 0
}
